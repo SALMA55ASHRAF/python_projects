{
  "cells": [
    {
      "cell_type": "markdown",
      "id": "c160409f",
      "metadata": {
        "id": "c160409f"
      },
      "source": [
        "## Question_01:\n"
      ]
    },
    {
      "cell_type": "markdown",
      "source": [
        "**Write a program that takes the user's name, age, and specialization as input, and then prints a welcome message as follows:**\n",
        "  \n",
        "  Hello `name`, your age is `age`, and your specialization is `specialization`."
      ],
      "metadata": {
        "id": "_fkBuYc2jU8b"
      },
      "id": "_fkBuYc2jU8b"
    },
    {
      "cell_type": "code",
      "execution_count": 1,
      "id": "189b7ee2",
      "metadata": {
        "id": "189b7ee2",
        "outputId": "c5c21f4a-d08f-4c41-d014-7be2e70bdf23",
        "colab": {
          "base_uri": "https://localhost:8080/"
        }
      },
      "outputs": [
        {
          "output_type": "stream",
          "name": "stdout",
          "text": [
            "enter your name : salma\n",
            "enter your age : 21\n",
            "enter your specialization : machine\n",
            "hello salma, your age is 21 and your specialization is machine.\n"
          ]
        }
      ],
      "source": [
        "name=input(\"enter your name : \")\n",
        "age=int(input(\"enter your age : \"))\n",
        "career=input(\"enter your specialization : \")\n",
        "print(f\"hello {name}, your age is {age} and your specialization is {career}.\")"
      ]
    },
    {
      "cell_type": "markdown",
      "id": "3a79d108",
      "metadata": {
        "id": "3a79d108"
      },
      "source": [
        "## Question_02:"
      ]
    },
    {
      "cell_type": "markdown",
      "source": [
        "**Extraction of odd numbers from this string.**"
      ],
      "metadata": {
        "id": "inBF6knmjZbf"
      },
      "id": "inBF6knmjZbf"
    },
    {
      "cell_type": "code",
      "execution_count": 3,
      "id": "6116c121",
      "metadata": {
        "id": "6116c121",
        "outputId": "b0b22372-dac5-4e64-ed48-8f211b0ca2ce",
        "colab": {
          "base_uri": "https://localhost:8080/"
        }
      },
      "outputs": [
        {
          "output_type": "stream",
          "name": "stdout",
          "text": [
            "13579\n"
          ]
        }
      ],
      "source": [
        "s = \"123456789\"\n",
        "odd=\"\"\n",
        "for i  in s :\n",
        "  if int(i)%2!=0:\n",
        "    odd+=str(i)\n",
        "print(odd)\n",
        "\n",
        "\n"
      ]
    },
    {
      "cell_type": "markdown",
      "id": "2a01dae4",
      "metadata": {
        "id": "2a01dae4"
      },
      "source": [
        "## Question_03:"
      ]
    },
    {
      "cell_type": "markdown",
      "source": [
        "**Convert the first letter of this word to uppercase, and other letters to be lowercase.**"
      ],
      "metadata": {
        "id": "Ahug2wrajhQH"
      },
      "id": "Ahug2wrajhQH"
    },
    {
      "cell_type": "code",
      "execution_count": 8,
      "id": "57d31fd5",
      "metadata": {
        "id": "57d31fd5",
        "outputId": "975c1032-c03d-4679-985c-ca054f32c725",
        "colab": {
          "base_uri": "https://localhost:8080/",
          "height": 35
        }
      },
      "outputs": [
        {
          "output_type": "execute_result",
          "data": {
            "text/plain": [
              "'Ahmed'"
            ],
            "application/vnd.google.colaboratory.intrinsic+json": {
              "type": "string"
            }
          },
          "metadata": {},
          "execution_count": 8
        }
      ],
      "source": [
        "name = \"aHmEd\"\n",
        "name=name.title()\n",
        "name\n",
        "\n",
        "\n"
      ]
    },
    {
      "cell_type": "markdown",
      "id": "0c9f41dd",
      "metadata": {
        "id": "0c9f41dd"
      },
      "source": [
        "## Question_04:\n"
      ]
    },
    {
      "cell_type": "markdown",
      "source": [
        "**There are some spaces and hashtag in this text. I want to get rid of them all.**"
      ],
      "metadata": {
        "id": "GnVn0kyfjlax"
      },
      "id": "GnVn0kyfjlax"
    },
    {
      "cell_type": "code",
      "execution_count": 9,
      "id": "85195df4",
      "metadata": {
        "id": "85195df4",
        "outputId": "15824a06-6b7a-4b6a-8025-47250f6b5a4a",
        "colab": {
          "base_uri": "https://localhost:8080/",
          "height": 35
        }
      },
      "outputs": [
        {
          "output_type": "execute_result",
          "data": {
            "text/plain": [
              "'GDCS'"
            ],
            "application/vnd.google.colaboratory.intrinsic+json": {
              "type": "string"
            }
          },
          "metadata": {},
          "execution_count": 9
        }
      ],
      "source": [
        "team  = \"   GDCS######\"\n",
        "team2=\"\"\n",
        "for i in team :\n",
        "  if i!=\" \" and i !='#':\n",
        "    team2+=i\n",
        "team2\n",
        "\n",
        "\n"
      ]
    },
    {
      "cell_type": "markdown",
      "source": [
        "## Question_05:"
      ],
      "metadata": {
        "id": "qItzoT6DfT9D"
      },
      "id": "qItzoT6DfT9D"
    },
    {
      "cell_type": "markdown",
      "source": [
        "**Print the type of the following data:**\n",
        "1. \"Hello World\"\n",
        "2. 123\n",
        "3. 3.14\n",
        "4. True"
      ],
      "metadata": {
        "id": "IopRtqayjoxc"
      },
      "id": "IopRtqayjoxc"
    },
    {
      "cell_type": "code",
      "source": [
        "print(type(\"hello world\"))\n",
        "print(type(123))\n",
        "print(type(3.14))\n",
        "print(type(True))"
      ],
      "metadata": {
        "id": "b3gBBB1nenM0",
        "outputId": "1898b277-a9ea-433e-9635-7f8039cdab27",
        "colab": {
          "base_uri": "https://localhost:8080/"
        }
      },
      "id": "b3gBBB1nenM0",
      "execution_count": 10,
      "outputs": [
        {
          "output_type": "stream",
          "name": "stdout",
          "text": [
            "<class 'str'>\n",
            "<class 'int'>\n",
            "<class 'float'>\n",
            "<class 'bool'>\n"
          ]
        }
      ]
    },
    {
      "cell_type": "markdown",
      "source": [
        "## Question_06:\n"
      ],
      "metadata": {
        "id": "xNXNI7VWg475"
      },
      "id": "xNXNI7VWg475"
    },
    {
      "cell_type": "markdown",
      "source": [
        "**Here are two numbers `x=10` & `y=5`, Calculate the summation, subtraction, multiplication, and division of them. Then print them all**"
      ],
      "metadata": {
        "id": "4BWXI0FRjxcX"
      },
      "id": "4BWXI0FRjxcX"
    },
    {
      "cell_type": "code",
      "source": [
        "x=10\n",
        "y=5\n",
        "print(\"the summation is : \",x+y)\n",
        "print(f\"the subtraction is {x-y}\")\n",
        "print(\"the multiplication is {}\".format(x*y))\n",
        "print(\"the divison is \"+str(x/y))\n"
      ],
      "metadata": {
        "id": "HaAy5dR0gpOQ",
        "outputId": "e468eb07-5451-4034-dad6-6396f284e068",
        "colab": {
          "base_uri": "https://localhost:8080/"
        }
      },
      "id": "HaAy5dR0gpOQ",
      "execution_count": 11,
      "outputs": [
        {
          "output_type": "stream",
          "name": "stdout",
          "text": [
            "the summation is :  15\n",
            "the subtraction is 5\n",
            "the multiplication is 50\n",
            "the divison is 2.0\n"
          ]
        }
      ]
    }
  ],
  "metadata": {
    "kernelspec": {
      "display_name": "Python 3 (ipykernel)",
      "language": "python",
      "name": "python3"
    },
    "language_info": {
      "codemirror_mode": {
        "name": "ipython",
        "version": 3
      },
      "file_extension": ".py",
      "mimetype": "text/x-python",
      "name": "python",
      "nbconvert_exporter": "python",
      "pygments_lexer": "ipython3",
      "version": "3.9.13"
    },
    "colab": {
      "provenance": []
    }
  },
  "nbformat": 4,
  "nbformat_minor": 5
}