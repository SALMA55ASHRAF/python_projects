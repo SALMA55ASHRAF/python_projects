{
  "nbformat": 4,
  "nbformat_minor": 0,
  "metadata": {
    "colab": {
      "provenance": []
    },
    "kernelspec": {
      "name": "python3",
      "display_name": "Python 3"
    },
    "language_info": {
      "name": "python"
    }
  },
  "cells": [
    {
      "cell_type": "markdown",
      "source": [
        "## Question_01 (List Manipulation):"
      ],
      "metadata": {
        "id": "wYHH1KeTtZd-"
      }
    },
    {
      "cell_type": "markdown",
      "source": [
        "**Create a list of numbers from 1 to 10. Write a program to print all the even numbers in the list.**"
      ],
      "metadata": {
        "id": "SsXiSUQEtgFn"
      }
    },
    {
      "cell_type": "code",
      "execution_count": null,
      "metadata": {
        "colab": {
          "base_uri": "https://localhost:8080/"
        },
        "id": "yGBJO8F-riVA",
        "outputId": "03b9ff53-823e-4527-e096-0399e755a5c9"
      },
      "outputs": [
        {
          "output_type": "stream",
          "name": "stdout",
          "text": [
            "2\n",
            "4\n",
            "6\n",
            "8\n",
            "10\n"
          ]
        }
      ],
      "source": [
        "numbers = list(range(1, 11))\n",
        "for i in numbers:\n",
        "  if i%2==0:\n",
        "    print(i)\n",
        "\n",
        "# Answer:\n"
      ]
    },
    {
      "cell_type": "markdown",
      "source": [
        "## Question_02 (Tuple Unpacking):"
      ],
      "metadata": {
        "id": "_7YCvO96uDTS"
      }
    },
    {
      "cell_type": "markdown",
      "source": [
        "**Given a tuple person = (\"John\", 25, \"Engineer\"), unpack the values and print them in a readable format.**\n",
        "\n",
        "Example: \"Name is `John`, His age is `25`, and his profession is `Engineer`\""
      ],
      "metadata": {
        "id": "nVKxQ8EKuDTS"
      }
    },
    {
      "cell_type": "code",
      "execution_count": null,
      "metadata": {
        "colab": {
          "base_uri": "https://localhost:8080/"
        },
        "outputId": "3699509f-ee2a-4f49-8c6c-3b562a768359",
        "id": "Oa6QxB3kuDTT"
      },
      "outputs": [
        {
          "output_type": "stream",
          "name": "stdout",
          "text": [
            "Name: John, Age: 25, profession: Engineer \n"
          ]
        }
      ],
      "source": [
        "person = (\"John\", 25, \"Engineer\")\n",
        "print(f\"Name: {person[0]}, Age: {person[1]}, profession: {person[2]} \")\n",
        "\n",
        "# Answer:\n"
      ]
    },
    {
      "cell_type": "markdown",
      "source": [
        "## Question_03 (Set Intersection):"
      ],
      "metadata": {
        "id": "HbScNwZLuDkP"
      }
    },
    {
      "cell_type": "markdown",
      "source": [
        "**Given two sets set1 and set2, find and print the common elements between them.**"
      ],
      "metadata": {
        "id": "PLFDdNe3uDkQ"
      }
    },
    {
      "cell_type": "code",
      "execution_count": null,
      "metadata": {
        "colab": {
          "base_uri": "https://localhost:8080/"
        },
        "outputId": "0c55a8e9-4d0c-4806-c755-13afd3a4d3ab",
        "id": "tv5gzy-6uDkQ"
      },
      "outputs": [
        {
          "output_type": "stream",
          "name": "stdout",
          "text": [
            "{4, 5}\n",
            "{4, 5}\n"
          ]
        }
      ],
      "source": [
        "set1 = {1, 2, 3, 4, 5}\n",
        "set2 = {4, 5, 6, 7, 8}\n",
        "#answer\n",
        "set3=set1.intersection(set2)\n",
        "print(set3)\n",
        "set4=set()\n",
        "#or anothor way\n",
        "for i in set1:\n",
        "  for j in set2:\n",
        "    if i==j:\n",
        "      set4.add(i)\n",
        "print(set4)\n",
        "\n"
      ]
    },
    {
      "cell_type": "markdown",
      "source": [
        "## Question_04 (Dictionary Manipulation):\n"
      ],
      "metadata": {
        "id": "sUlpU8_wuDsh"
      }
    },
    {
      "cell_type": "markdown",
      "source": [
        "**Having a dictionary containing the names and ages of three people. Write a program to find and print the person with the highest age.**"
      ],
      "metadata": {
        "id": "64_CrG42uDsj"
      }
    },
    {
      "cell_type": "code",
      "execution_count": null,
      "metadata": {
        "colab": {
          "base_uri": "https://localhost:8080/"
        },
        "outputId": "a2ac380c-2d82-4b42-a5f6-61c0df00158e",
        "id": "XIOlK6_QuDsj"
      },
      "outputs": [
        {
          "output_type": "stream",
          "name": "stdout",
          "text": [
            "the person with highest age is Charlie and he is aged 35.\n"
          ]
        }
      ],
      "source": [
        "people = {\"Alice\": 30, \"Bob\": 25, \"Charlie\": 35}\n",
        "max_age=max(people.values())\n",
        "name_of_max_age=\"\"\n",
        "for name,age in people.items():\n",
        "  if age==max_age:\n",
        "    name_of_max_age=name\n",
        "    break\n",
        "print(f\"the person with highest age is {name_of_max_age} and he is aged {max_age}.\")\n"
      ]
    },
    {
      "cell_type": "markdown",
      "source": [
        "## Question_05 (List Comprehension):\n"
      ],
      "metadata": {
        "id": "e1osbceZwgUG"
      }
    },
    {
      "cell_type": "markdown",
      "source": [
        "**Given a list of numbers, create a new list that contains only the squares of even numbers using list comprehension.**"
      ],
      "metadata": {
        "id": "ee_ZOiXrwgUG"
      }
    },
    {
      "cell_type": "code",
      "execution_count": null,
      "metadata": {
        "colab": {
          "base_uri": "https://localhost:8080/"
        },
        "outputId": "dc7ed41d-57ec-4e1f-a20c-3957a8be1d2a",
        "id": "YMT7iL-gwgUG"
      },
      "outputs": [
        {
          "output_type": "execute_result",
          "data": {
            "text/plain": [
              "[4, 16, 36, 64, 100]"
            ]
          },
          "metadata": {},
          "execution_count": 7
        }
      ],
      "source": [
        "numbers = [1, 2, 3, 4, 5, 6, 7, 8, 9, 10]\n",
        "list_comprehension=[x**2 for x in numbers if x%2==0]\n",
        "list_comprehension\n",
        "# Answer:\n"
      ]
    },
    {
      "cell_type": "markdown",
      "source": [
        "## Question_06 (Tuple Packing):\n"
      ],
      "metadata": {
        "id": "zztjF7-Rw885"
      }
    },
    {
      "cell_type": "markdown",
      "source": [
        "**Having two variables, name and age, write a program that prints a tuple containing the name and age.**\n",
        "\n"
      ],
      "metadata": {
        "id": "x68ya2mlw885"
      }
    },
    {
      "cell_type": "code",
      "execution_count": null,
      "metadata": {
        "colab": {
          "base_uri": "https://localhost:8080/"
        },
        "outputId": "253de26b-6da7-4557-f608-6b591485cfa2",
        "id": "27Ulb1oSw885"
      },
      "outputs": [
        {
          "output_type": "execute_result",
          "data": {
            "text/plain": [
              "('Alice', 28)"
            ]
          },
          "metadata": {},
          "execution_count": 8
        }
      ],
      "source": [
        "name = \"Alice\"\n",
        "age = 28\n",
        "#my_info_tuple=()\n",
        "#my_info_tuple=name,age\n",
        "my_info_tuple=name,age\n",
        "my_info_tuple\n",
        "\n",
        "# Answer:\n"
      ]
    },
    {
      "cell_type": "markdown",
      "source": [
        "## Question_07 (Set Operations):\n"
      ],
      "metadata": {
        "id": "eWYgdeoNyGSl"
      }
    },
    {
      "cell_type": "markdown",
      "source": [
        "**Having two sets of random numbers between 1 and 100, calculate and print the union and symmetric difference of the two sets.**"
      ],
      "metadata": {
        "id": "ze_tFDezyGSl"
      }
    },
    {
      "cell_type": "code",
      "execution_count": null,
      "metadata": {
        "colab": {
          "base_uri": "https://localhost:8080/"
        },
        "outputId": "55764bfd-5fdd-4d20-c985-cb3160b75ff1",
        "id": "BBx2T8RwyGSm"
      },
      "outputs": [
        {
          "output_type": "stream",
          "name": "stdout",
          "text": [
            "first set is  {64, 65, 44, 12, 14, 22, 55, 89, 60, 62}\n",
            "second set is  {36, 37, 71, 40, 8, 7, 44, 78, 57, 93}\n",
            "union:  {64, 65, 71, 8, 7, 12, 14, 78, 22, 89, 93, 36, 37, 40, 44, 55, 57, 60, 62}\n",
            "symmetric difference:  {64, 65, 36, 37, 71, 40, 8, 7, 12, 14, 78, 22, 55, 89, 60, 93, 62, 57}\n",
            "{64, 65, 89, 36, 37, 71, 40, 8, 7, 12, 78, 14, 22, 55, 57, 60, 93, 62}\n",
            "you are true \n"
          ]
        }
      ],
      "source": [
        "import random\n",
        "\n",
        "set1 = set(random.sample(range(1, 101), 10))\n",
        "set2 = set(random.sample(range(1, 101), 10))\n",
        "union_set=set1.union(set2)\n",
        "diff_set1=set1.difference(set2)\n",
        "diff_set2=set2.difference(set1)\n",
        "symmtry_diff=diff_set1.union(diff_set2)\n",
        "print(\"first set is \",set1)\n",
        "print(\"second set is \",set2)\n",
        "print(\"union: \",union_set)\n",
        "print(\"symmetric difference: \",symmtry_diff)\n",
        "#or using this methode and both way is same\n",
        "print(set1.symmetric_difference(set2))\n",
        "#if symmtry_diff==(set1.symmetric_difference(set2)):\n",
        " # print(\"you are true \")\n",
        "\n",
        "\n",
        "# Answer:\n"
      ]
    },
    {
      "cell_type": "markdown",
      "source": [
        "## Question_08 (Nested Dictionaries):\n"
      ],
      "metadata": {
        "id": "anYf4szkzCj0"
      }
    },
    {
      "cell_type": "markdown",
      "source": [
        "**Given a nested dictionary representing a student's grades, calculate and print the average grade for each subject.**"
      ],
      "metadata": {
        "id": "Fd9mKpzvzCj0"
      }
    },
    {
      "cell_type": "code",
      "execution_count": 36,
      "metadata": {
        "colab": {
          "base_uri": "https://localhost:8080/"
        },
        "outputId": "cf75276f-1443-46b8-a160-2ae7a98553cb",
        "id": "84CFPF_kzCj0"
      },
      "outputs": [
        {
          "output_type": "stream",
          "name": "stdout",
          "text": [
            "Alic avg grades  87.67\n",
            "Bob avg grades  82.0\n",
            "math avg grades is :  84.0\n",
            "science avg grades is :  88.5\n",
            "history avg is :  82.0\n"
          ]
        }
      ],
      "source": [
        "student_grades = {\n",
        "    \"Alice\": {\"Math\": 90, \"Science\": 85, \"History\": 88},\n",
        "    \"Bob\": {\"Math\": 78, \"Science\": 92, \"History\": 76}\n",
        "}\n",
        "#Answer:\n",
        "math=0.0\n",
        "sc=0.0\n",
        "history=0.0\n",
        "for value in student_grades.values():\n",
        "  for key,value2 in value.items():\n",
        "         if key==\"Math\":\n",
        "            math+=value2\n",
        "         elif key==\"History\":\n",
        "          history+=value2\n",
        "         else:\n",
        "          sc+=value2\n",
        "alic_avg_grades=0.0\n",
        "bob_avg_grades=0.0\n",
        "avg1=0.0\n",
        "l=[]\n",
        "counter=0\n",
        "for key,value in student_grades.items():\n",
        "  for value in value.values():\n",
        "      avg1+=value\n",
        "      counter+=1\n",
        "  l.append(avg1/counter)\n",
        "  avg1=0\n",
        "  counter=0\n",
        "\n",
        "alic_avg_grades=round(l[0] ,2)\n",
        "bob_avg_grades=round(l[1],2)\n",
        "print(\"Alic avg grades \",alic_avg_grades)\n",
        "print(\"Bob avg grades \",bob_avg_grades)\n",
        "print(\"math avg grades is : \",round((math/len(student_grades)),2))\n",
        "print(\"science avg grades is : \",sc/len(student_grades))\n",
        "print(\"history avg is : \",history/len(student_grades))"
      ]
    },
    {
      "cell_type": "markdown",
      "source": [
        "## Question_09 (List Rotation):\n"
      ],
      "metadata": {
        "id": "GZ_c7SEVzhrH"
      }
    },
    {
      "cell_type": "markdown",
      "source": [
        "**Write a program to rotate a given list to the right by a specified number of positions. For example, if the list is `[1, 2, 3, 4, 5]` and the rotation is 2, the result should be `[4, 5, 1, 2, 3]`.**"
      ],
      "metadata": {
        "id": "TIXnzKqAzhrH"
      }
    },
    {
      "cell_type": "code",
      "execution_count": 50,
      "metadata": {
        "colab": {
          "base_uri": "https://localhost:8080/"
        },
        "outputId": "8f6b3cc5-01eb-48b7-dc3e-e1b95f5b4129",
        "id": "dx4kKnIwzhrH"
      },
      "outputs": [
        {
          "output_type": "execute_result",
          "data": {
            "text/plain": [
              "[4, 5, 1, 2, 3]"
            ]
          },
          "metadata": {},
          "execution_count": 50
        }
      ],
      "source": [
        "original_list = [1, 2, 3, 4, 5]\n",
        "rotation_position = 2\n",
        "# Answer:\n",
        "# ididnt undersatnd it i see it in chatgpt but dont understand it yet\n",
        "\n"
      ]
    },
    {
      "cell_type": "markdown",
      "source": [
        "## Question_10 (Prime Number Generator):\n"
      ],
      "metadata": {
        "id": "8QTgKgLu0dP2"
      }
    },
    {
      "cell_type": "markdown",
      "source": [
        "**Having a list of numbers, Write a program that loops over the list and print only elements dividable by 3 - `%3`**"
      ],
      "metadata": {
        "id": "nj88lxGm0dP2"
      }
    },
    {
      "cell_type": "code",
      "execution_count": 43,
      "metadata": {
        "colab": {
          "base_uri": "https://localhost:8080/"
        },
        "outputId": "f1bdaa6a-07e9-47d7-9360-2b1a049d1700",
        "id": "sedaZhFY0dP2"
      },
      "outputs": [
        {
          "output_type": "stream",
          "name": "stdout",
          "text": [
            "3\n",
            "9\n",
            "15\n",
            "21\n",
            "27\n",
            "33\n",
            "39\n",
            "45\n",
            "51\n",
            "57\n",
            "63\n",
            "69\n",
            "75\n",
            "81\n",
            "87\n",
            "93\n",
            "99\n",
            "***************\n",
            "3\n",
            "5\n",
            "7\n",
            "11\n",
            "13\n",
            "17\n",
            "19\n",
            "23\n",
            "29\n",
            "31\n",
            "37\n",
            "41\n",
            "43\n",
            "47\n",
            "53\n",
            "59\n",
            "61\n",
            "67\n",
            "71\n",
            "73\n",
            "79\n",
            "83\n",
            "89\n",
            "97\n"
          ]
        }
      ],
      "source": [
        "lst = list(range(1,100, 2))\n",
        "# Answer for odd numbers :\n",
        "for i in lst:\n",
        "  if i%3==0:\n",
        "    print(i)\n",
        "# answer for prime numbers :\n",
        "print(\"*\"*15)\n",
        "counter=0\n",
        "for i in lst:\n",
        "  counter=0\n",
        "  for j in range(1,i+1):\n",
        "    if i%j==0:\n",
        "      counter+=1\n",
        "  if counter==2:\n",
        "    print(i)\n",
        "\n",
        "\n"
      ]
    },
    {
      "cell_type": "code",
      "source": [],
      "metadata": {
        "id": "T8sRjb3Gt27H"
      },
      "execution_count": null,
      "outputs": []
    }
  ]
}